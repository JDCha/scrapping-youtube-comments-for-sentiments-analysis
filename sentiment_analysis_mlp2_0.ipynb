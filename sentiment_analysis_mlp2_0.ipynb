{
  "nbformat": 4,
  "nbformat_minor": 0,
  "metadata": {
    "colab": {
      "name": "sentiment analysis mlp2.0.ipynb",
      "version": "0.3.2",
      "provenance": [],
      "collapsed_sections": []
    },
    "kernelspec": {
      "name": "python3",
      "display_name": "Python 3"
    }
  },
  "cells": [
    {
      "metadata": {
        "id": "vZa055NgwEv-",
        "colab_type": "code",
        "outputId": "be075be8-73e6-4104-ead2-21c3ef7c170f",
        "colab": {
          "base_uri": "https://localhost:8080/",
          "height": 34
        }
      },
      "cell_type": "code",
      "source": [
        "from google.colab import drive\n",
        "from tensorflow import keras\n",
        "from keras.models import Sequential\n",
        "from keras.layers import Dense, Dropout, Flatten\n",
        "from keras import backend as K\n",
        "import numpy as np\n",
        "from gensim.models import Word2Vec\n",
        "import tensorflow as tf"
      ],
      "execution_count": 0,
      "outputs": [
        {
          "output_type": "stream",
          "text": [
            "Using TensorFlow backend.\n"
          ],
          "name": "stderr"
        }
      ]
    },
    {
      "metadata": {
        "id": "5ielHM1z1h1K",
        "colab_type": "text"
      },
      "cell_type": "markdown",
      "source": [
        "*Labeling  the statements as  neutral(0), positive(1) and negative(2) *\n",
        "\n",
        "---\n",
        "\n",
        "\n",
        "\n",
        "---\n",
        "\n"
      ]
    },
    {
      "metadata": {
        "id": "oU7DNWwg0Nb4",
        "colab_type": "code",
        "outputId": "135c6a5b-b41f-4a27-983f-439d8ee5aa5b",
        "colab": {
          "base_uri": "https://localhost:8080/",
          "height": 52
        }
      },
      "cell_type": "code",
      "source": [
        "drive.mount('/content/gdrive')\n",
        "\n",
        "file = open('/content/gdrive/My Drive/latest/comments.txt',\"r\") #comments of  delhi video tours  especially food related\n",
        "comments= file.read().splitlines()  \n",
        "print(len(comments),\"of comments in the given dataset\")\n",
        "file.close()\n",
        "\n",
        "# filename = '/content/gdrive/My Drive/latest/negative.txt'\n",
        "# file = open(filename,\"r\" )\n",
        "# negative = file.read().splitlines()\n",
        "# file.close()   \n",
        "\n",
        "# filename = '/content/gdrive/My Drive/latest/positive.txt'\n",
        "# file = open(filename,\"r\" )\n",
        "# positive = file.read().splitlines()\n",
        "# file.close()\n",
        "\n",
        "# lab=[]\n",
        "# for i in range(len(comments)):\n",
        "#     lab.append(0)\n",
        "# def label(comments,negative,positive):\n",
        "#     for i in range(len(comments)):\n",
        "#         words=comments[i].split()\n",
        "#         for j in range(len(words)):\n",
        "#             for k in range(len(positive)):\n",
        "#                 if(words[j]==positive[k]):\n",
        "#                     lab[i]=.7\n",
        "                \n",
        "#             for l in range(len(negative)): \n",
        "#                 if(words[j]==negative[l]):\n",
        "#                     lab[i]=.5\n",
        "                \n",
        "           \n",
        "# label(comments,negative,positive)\n",
        "# np.save('/content/gdrive/My Drive/latest/labelf.npy', lab)\n"
      ],
      "execution_count": 0,
      "outputs": [
        {
          "output_type": "stream",
          "text": [
            "Drive already mounted at /content/gdrive; to attempt to forcibly remount, call drive.mount(\"/content/gdrive\", force_remount=True).\n",
            "30080 of comments in the given dataset\n"
          ],
          "name": "stdout"
        }
      ]
    },
    {
      "metadata": {
        "id": "EjU6WKPbAzsG",
        "colab_type": "text"
      },
      "cell_type": "markdown",
      "source": [
        "*Vocabulary building section *\n",
        "\n",
        "---\n",
        "\n",
        "\n",
        "\n",
        "---\n",
        "\n"
      ]
    },
    {
      "metadata": {
        "id": "gdlgsvCFzn5-",
        "colab_type": "code",
        "outputId": "dbe4e053-8ce4-46c6-b937-f87b4673bff4",
        "colab": {
          "base_uri": "https://localhost:8080/",
          "height": 34
        }
      },
      "cell_type": "code",
      "source": [
        "print(comments[1])"
      ],
      "execution_count": 0,
      "outputs": [
        {
          "output_type": "stream",
          "text": [
            "you should try coming to Tunisia \n"
          ],
          "name": "stdout"
        }
      ]
    },
    {
      "metadata": {
        "id": "HY5zbNFA0TVR",
        "colab_type": "code",
        "outputId": "60fd80e1-1837-4401-e25d-30a11d887dd2",
        "colab": {
          "base_uri": "https://localhost:8080/",
          "height": 34
        }
      },
      "cell_type": "code",
      "source": [
        "import string\n",
        "with open('/content/gdrive/My Drive/latest/commentss.txt', 'w') as f:\n",
        "    for item in comments:\n",
        "      words=\" \".join(\"\".join([\" \" if ch in string.punctuation else ch for ch in item]).split())\n",
        "      wordsf=\"\".join(str(x) for x in list(words))\n",
        "      f.write(\"%s\\n\" % wordsf)\n",
        "file.close()\n",
        "file = open('/content/gdrive/My Drive/latest/commentss.txt',\"r\") #comments of  delhi video tours  especially food related\n",
        "commentss= file.read().splitlines()  \n",
        "print(len(comments),\"of comments in the given dataset\")\n",
        "file.close()\n",
        "a=[]\n",
        "for c in string.punctuation:\n",
        "    a.append(c)\n",
        "with open('/content/gdrive/My Drive/latest/commentssss.txt', 'w') as f:\n",
        "    for item in commentss:\n",
        "      words=(set(item.split()).difference(a))\n",
        "      wordsf=\" \".join(str(x.lower()) for x in list(words))\n",
        "      f.write(\"%s\\n\" % wordsf)\n",
        "file.close()"
      ],
      "execution_count": 0,
      "outputs": [
        {
          "output_type": "stream",
          "text": [
            "30080 of comments in the given dataset\n"
          ],
          "name": "stdout"
        }
      ]
    },
    {
      "metadata": {
        "id": "VLrJ9ktOBZcv",
        "colab_type": "text"
      },
      "cell_type": "markdown",
      "source": [
        "*Removing larger sentences and retaining only ones with the length specified or lesser ones*\n",
        "\n",
        "---\n",
        "\n",
        "\n",
        "\n",
        "---\n",
        "\n"
      ]
    },
    {
      "metadata": {
        "id": "wV7ICuT63MFb",
        "colab_type": "code",
        "colab": {}
      },
      "cell_type": "code",
      "source": [
        "j=[]\n",
        "sentencesf=[]         #calculating the length of all sentences ie the no. of words\n",
        "labelf=[]\n",
        "filename = '/content/gdrive/My Drive/latest/commentssss.txt'\n",
        "file = open(filename,\"r\" )\n",
        "sentences = file.read().splitlines()\n",
        "file.close() \n",
        "lab=np.load('/content/gdrive/My Drive/latest/labelf.npy')\n",
        "for i in range(len(sentences)):\n",
        "  j.append(len(sentences[i]))"
      ],
      "execution_count": 0,
      "outputs": []
    },
    {
      "metadata": {
        "id": "AGqljyiZS81I",
        "colab_type": "code",
        "outputId": "aee0ebf9-3efb-48c3-cb6c-986b68898220",
        "colab": {
          "base_uri": "https://localhost:8080/",
          "height": 34
        }
      },
      "cell_type": "code",
      "source": [
        "sense=[]\n",
        "for i in range(len(sentences)):\n",
        "    sense.append(0)\n",
        "for i in range(0,len(sentences)):\n",
        "    sense[i]=sentences[i].split()\n",
        "    \n",
        "sentencesf=[]\n",
        "labelf=[]\n",
        "j=[]\n",
        "for i in range(len(sentences)):\n",
        "  j.append(len(sense[i]))\n",
        "\n",
        "\n",
        "for i in range(len(j)):\n",
        "  if(j[i]<=68):\n",
        "    sentencesf.append(sense[i])\n",
        "    labelf.append(lab[i])\n",
        "print(type(sentencesf))\n"
      ],
      "execution_count": 0,
      "outputs": [
        {
          "output_type": "stream",
          "text": [
            "<class 'list'>\n"
          ],
          "name": "stdout"
        }
      ]
    },
    {
      "metadata": {
        "id": "iOYi4SvmBxfK",
        "colab_type": "text"
      },
      "cell_type": "markdown",
      "source": [
        "\n",
        "*Word2Vec*\n",
        "\n",
        "---\n",
        "\n",
        "\n",
        "\n",
        "---\n",
        "\n"
      ]
    },
    {
      "metadata": {
        "id": "L1hk-dJT3s8b",
        "colab_type": "code",
        "outputId": "3d8f541f-d761-496e-f8d8-2a16b943e8f6",
        "colab": {
          "base_uri": "https://localhost:8080/",
          "height": 72
        }
      },
      "cell_type": "code",
      "source": [
        "model = Word2Vec(sentencesf,size=68, min_count=5)#word vector dim=28\n",
        "# summarize the loaded model\n",
        "print(model)\n",
        "# summarize vocabulary\n",
        "words = list(model.wv.vocab)\n",
        "print(words)\n",
        "# access vector for one word\n",
        "# print(model[ 'was' ])\n",
        "# save model\n",
        "\n"
      ],
      "execution_count": 0,
      "outputs": [
        {
          "output_type": "stream",
          "text": [
            "Word2Vec(vocab=4758, size=68, alpha=0.025)\n",
            "['ve', 'best', 'brain', 'had', 'that', 'the', 'ever', 'i', 'was', 'coming', 'to', 'try', 'you', 'should', 'pakistan', 'u', 'will', 'when', 'come', 'nice', 'by', 'english', 'wala', 'is', 'biryani', 'sad', 'didn', 'this', 'so', 't', 'test', 'why', 'india', 'video', 'in', 'all', 'sellers', 'are', 'of', 'men', 'one', 'seen', 'fit', 'go', 'like', 'reviews', 'how', 'wherever', 'have', 'fooled', '500rs', 'stuffed', 'they', 'land', 'king', 'food', 'unhygenic', 'bangladesh', 'comes', 'please', 'me', 'subscribe', 'superb', 'much', 'too', 'ass', 'burn', 'spicy', 'for', 'just', 'indian', 'spices', 'foods', 'would', 'do', 'a', 'street', 'trip', 'el', 'gaali', 'wali', 'paratha', 'from', 'am', 'and', 'love', 'we', 'also', 'taste', 'watching', 'live', 'pigs', 'indians', 'welcome', 'different', 'other', 'hope', 'east', 'it', 'north', 's', 'totally', 'visit', 'cities', 'll', 'fry', 'think', 'deep', 'don', 'parantha', 'want', 'very', 'pak', 'program', 'cool', 'times', 'every', '3', 'more', 'time', 'hahahah', 'charge', 'hoping', 'those', 'were', 'really', 'probably', 'enjoy', 'bare', 'sick', 'with', 'handed', 'then', 'if', 'id', 'good', 'thats', 'later', 'only', 'again', 'dont', 'iron', 'guy', 'at', 'my', 'money', 'there', 'looks', 'get', 'not', 'people', 'about', 'gut', 'an', 'his', 'rip', 'butt', 'cannot', 'others', 'compete', 'keep', 'on', 'work', 'youtube', 'honestly', 'up', 'dishes', 'ahmedabad', 'man', 'gujarat', 'hey', 'variety', 'usa', 'no', 'places', 'exactly', 'loved', 'prices', 'what', 'or', 'went', 'everyone', 'tourist', 'place', 'shown', 'vendors', 'see', 'using', 'hygiene', 'most', 'hell', 'hygene', 'lol', 'shits', 'ur', 'delhi', 'house', 'videos', 'whenever', 'making', 'feast', 'watch', 'aaa', 'wonder', 'heart', 'butter', 'fried', '35', 'www', 'awesome', 'foodie', 'japan', 'check', 'experience', 'com', 'hindi', 'speak', 'accent', 'chinese', 'unfriendly', 'nicest', 'trevor', 'humble', 'some', 'system', 'god', 'been', 'did', 'women', 'cum', 'inside', 'dog', 'shot', 'partner', 'raped', 'beans', 'honk', 'omg', '7', 'xd', 'run', 'life', '06', 'your', 'hungry', 'make', 'hi', 'nihari', 'restaurants', 'missed', 'famous', 'dish', 'but', 'nah', 'got', 'city', 'delicious', 'bro', 'dal', 'paani', 'puri', 'kachori', '10', 'ki', 'scammed', 'thank', 'must', 'lahore', 'delighted', 'gujarati', 'eat', 'fab', 'selfish', 'arrogant', 'rich', 'evil', 'respectful', 'poor', 'dogs', 'treat', 'never', 'stop', 'matter', '25', 'can', 'week', 'call', 'r', 'pani', 'gol', 'take', 'easy', 'oh', 'oil', 'winter', 'stomach', 'day', 'upset', 'bet', 'next', '52', 'said', '9', 'she', 'pakistani', 'main', 'aslam', 'hain', 'isko', 'nahi', 'bomb', 'blast', 'cute', 'awwww', 're', 'nan', 'surely', 'makes', 'beginning', 'ordered', 'zomato', 'add', 'plate', 'sold', 'these', 'cost', 'us', 'canada', 'many', 'used', 'snack', 'parathe', 'sweet', 'paradise', 'chandni', 'shops', 'overrated', 'sorry', 'africa', 'anywhere', 'along', 'now', 'help', 'naa', 'ke', 'naan', 'bas', 'iraq', '12', '30', 'definitely', 'engineer', 'obese', 'here', 'he', 'way', 'says', 'pork', 'beef', 'meat', 'm', 'banned', 'lover', 'healthy', 'west', 'tandoori', 'beat', 'nothing', 'ahh', 'hmm', 'abt', 'profile', 'sir', 'hello', 'new', 'location', 'need', 'travels', 'thanks', 'sharing', 'job', 'world', 'ranger', 'though', 'out', 'water', 'excited', 'tried', '2', 'going', 'weeks', 'wait', 'curry', 'even', 'san', 'bangalore', 'c', 'once', 'poisoning', 'aren', 'worried', 'be', 'during', 'school', 'seems', 'plz', 'kerala', 'has', 'damn', 'tamilnadu', 'which', 'madurai', 'bless', 'mate', 'poverty', 'opportunity', 'wish', 'yeah', 'paid', 'know', 'their', 'chai', 'nonveg', 'bhai', 'gyi', 'aur', 'hai', 'kya', 'hogi', 'k', 'heavy', 'kabab', 'pet', 'any', 'nation', 'saw', 'big', 'fan', 'fat', 'asf', 'eats', 'ise', 'koi', 'h', 'eng', 'ye', 'doubt', 'polite', 'down', 'canadians', 'canadian', 'earth', 'gain', 'meal', 'expensive', 'gonna', '50', 'stay', 'boy', '22', 'quite', 'thought', 'kebabs', 'tho', 'cook', 'them', 'cooking', 'rate', 'luck', 'lifetime', 'whole', 'south', 'great', 'muslim', 'area', 'specially', 'look', 'vedio', 'kolkata', 'gf', 'her', 'im', 'af', 'chill', 'comment', 'kashmir', 'happy', 'dhaka', 'cn', 'w', '36', 'eating', 'straight', 'v', 'fire', 'https', 'pan', 'close', 'eyes', 'na', 'cant', 'hunger', 'everytime', 'him', 'bahut', 'ko', '6', 'noise', 'muslims', 'jammu', 'its', 'inform', 'came', 'contact', 'pick', 'dream', 'word', 'gali', 'worry', 'obviously', 'paranthe', 'say', 'd', 'stephen', 'racial', 'goodness', 'someone', 'ya', 'discrimination', 'calls', 'such', 'eaten', 'getting', 'veg', 'ohh', 'aww', 'road', 'wanna', '300', 'feet', 'sound', 'does', 'camera', 'mmmmmmm', 'tasty', 'irritating', 'lot', 'fellow', 'heard', 'same', 'end', 'episodes', 'made', 'mouth', 'dude', 'price', 'brother', 'foreigner', 'foreigners', 'corruption', 'taking', 'beware', 'visited', 'who', 'belongs', 'states', '29', 'mumbai', 'believe', 'prepare', 'something', 'drooling', 'pls', 'warning', 'thus', 'greetings', 'egypt', 'loves', 'buddy', 'calcutta', 'living', 'stalls', 'gora', 'chod', 'lucknow', 'non', '4', 'doing', 'movie', 'porn', 'sounds', 'cholesterol', 'feel', 'urself', 'heaven', 'khata', 'hota', 'kitna', 'hy', 'bhi', 'section', 'minorities', 'cow', 'enough', 'population', 'sacred', 'nope', 'skin', 'bad', 'full', 'flavours', 'aromatic', 'summer', 'dare', 'fucked', 'australia', 'stuff', 'dying', 'longer', 'because', '39', 'hahah', 'hahaha', 'hear', 'funny', 'waali', 'chutney', 'nepal', 'where', 'sitting', 'last', 'chicken', 'punjabi', 'bangladeshi', 'hilarious', 'brotherhood', 'varanasi', 'friendly', 'thing', 'kochi', 'feeling', 'blend', 'course', 'edited', 'beautiful', 'show', 'channel', 'start', 'well', 'presented', 'having', 'clear', 'yeh', 'orgasm', 'mean', 'tongue', 'mmm', 'few', 'bit', 'old', 'yummy', 'dirty', 'cooked', 'etc', 'conditions', 'under', 'rats', 'nails', 'hands', 'bugs', 'germs', 'gloves', 'culture', 'smells', 'lost', 'entirely', 'tastes', 'simply', 'welcoming', 'actual', 'watering', 'reaction', 'epic', 'looking', 'streets', 'wonderful', 'vlogger', 'person', 'respect', 'favorite', 'chennai', 'countries', 'country', 'find', 'trev', 'everything', 'suit', 'http', 'paneer', 'tikka', 'hatti', 'bcoz', '500', 'di', 'daal', 'looted', 'although', '20', 'crush', 'bread', 'appetizing', 'deserves', 'karim', 'rating', 'hardworking', 'gets', 'as', 'guys', 'brave', 'ingredients', 'grab', 'hand', 'uses', 'recipe', 'fact', 'pizza', 'enter', 'dipped', 'rabdi', 'single', 'miss', 'long', 'off', 'lived', 'ripped', 'insane', 'rs', '53', 'than', 'fancy', 'shop', '5', 'each', 'samosa', 'region', 'authentic', 'mouthwatering', 'seafood', 'goa', 'real', 'wow', 'amazing', 'karta', 'review', 'maza', 'zara', 'meh', 'ah', 'toh', 'agar', 'rice', 'grandma', 'egg', 'years', '100', 'through', 'milk', 'hit', 'updates', 'link', 'icon', 'share', 'bell', 'hindu', 'vegetables', 'win', 'vs', 'restaurant', 'low', 'awsm', 'potato', 'yessss', 'raha', 'pronounce', 'karne', 'ni', 'aa', 'absolutely', 'forward', 'high', 'service', 'ahad', 'today', 'given', 'recommended', 'disgusting', 'jealous', 'youtu', 'mutton', 'special', 'ali', 'mohammed', 'delicacies', 'moment', 'haven', 'side', 'dear', 'oo', 'turned', 'sometime', 'mauritius', 'ohhh', 'ancestors', 'watched', 'kumar', 'near', 'akshay', 'persons', '1500', 'cheaper', 'diarrhea', 'looked', 'bjp', 'started', 'beauty', 'rss', 'finished', 'almost', 'smiling', 'sure', 'seem', 'month', 'holy', 'fasting', 'ummmm', 'bhosdike', 'kaise', 'kha', 'tu', 'itna', 'ka', 'jata', 'tere', 'baap', 'rha', 'gand', 'se', 'itni', 'mare', 'lag', 'gaya', 'rahul', 'thik', 'hao', 'mai', 'din', 'saamne', 'weird', 'loot', 'rahe', 'log', 'else', 'name', 'remind', 'presentation', 'travor', 'game', 'typical', 'personal', 'attack', 'sense', 'tell', 'deny', 'uk', 'drink', 'soon', 'kareem', 'missing', 'back', 'amazed', 'rather', 'enjoying', 'snacks', 'available', 'sea', 'hyderabadi', 'eastern', 'bengali', 'rajasthani', 'shocked', 'round', 'kerela', 'nom', 'self', 'develop', 'confidence', 'amount', 'open', 'hate', 'yes', 'james', 'incredibly', 'facebook', 'l', 'cuisines', 'divided', 'brothers', 'blood', 'politics', 'watery', 'pronunciation', 'tonight', 'die', 'jesus', 'compare', 'honest', 'charging', 'jao', 'while', 'ramadan', 'prefer', 'personally', 'lahori', 'y', 'dreams', 'over', 'per', 'tha', 'wo', 'nd', 'saal', 'insan', 'rhe', 'sab', 'abhi', 'ne', 'chal', 'ache', '150', 'apni', 'dekha', 'khane', 'yaar', 'n', 'ek', 'hugs', 'trust', 'ramadhan', 'realy', 'diffrent', 'varieties', '1', 'dnt', 'yaa', 'exotic', 'doesn', 'pounds', 'spend', '600', 'could', 'buffalo', 'information', 'parata', 'ice', 'visits', 'iniesta', 'young', 'instead', 'goes', 'wrong', 'guide', 'budget', 'shoot', 'may', 'haha', 'p', 'makers', 'someday', 'vlogs', 'working', 'trolls', 'comments', 'spread', 'certain', 'documentary', 'tel', 'fantastic', 'into', 'cold', 'warm', 'pakistanis', 'kind', 'due', 'kitne', 'liya', 'kaa', 'rabri', 'mee', 'content', 'worth', 'inr', 'give', 'instantly', 'random', 'hahahaha', 'properly', 'pratha', 'hepatitis', 'moaning', 'mast', 'head', 'bland', 'nasty', 'anything', 'maybe', '01', 'realized', 'punjab', 'thousand', 'types', 'our', 'sign', 'invite', '70', 'o', 'thousands', 'touching', 'ate', 'possible', 'proud', 'brilliant', 'yt', 'smoked', 'thinking', 'without', 'prepared', 'didnt', 'hum', 'sub', 'acha', 'locations', 'sister', 'suggestion', 'biriyani', 'inviting', 'saudi', 'screen', 'smell', 'filming', 'means', 'quality', 'nearby', 'super', 'drank', 'odisha', 'blog', 'born', 'illness', 'threw', 'choice', 'words', 'keeps', 'dekh', 'bana', 'gore', 'lo', 'mahal', 'drone', 'around', 'traveling', 'rickshaw', 'mix', 'animal', 'sky', 'danger', 'loaded', 'innocent', 'karims', 'zone', 'walking', 'quantity', 'mr', 'let', 'humans', 'dangerous', 'ain', 'rupee', 'panipuri', 'f', 'yar', 'yo', 'called', 'gave', 'tour', 'capital', 'oily', 'being', 'pradesh', 'number', 'andhra', 'sooo', 'ho', 'reply', 'wear', 'still', 'health', 'concept', 'popular', 'info', 'fusion', 'indo', 'italian', 'pasta', 'united', 'namaste', 'true', 'move', '40', 'sit', 'mine', 'hotel', 'compared', 'agree', 'brings', 'together', 'avoid', 'explain', 'understand', 'aw', 'ma', 'already', 'paya', '51', 'salt', 'ohhhh', 'cream', 'soft', 'touch', 'intolerant', 'theyre', 'fall', 'chance', 'cuz', 'luv', 'rude', 'wtf', 'languages', 'speaks', 'join', 'team', 'becomes', 'discovered', 'yet', 'ooooh', 'iam', 'soooo', 'hyped', 'z', 'diversity', 'universe', 'except', 'nonsense', 'safety', 'seriously', 'problems', 'refreshing', 'concern', 'la', 'jada', 'diya', 'tum', 'literally', 'mcdonalds', 'ryt', 'apne', 'lage', 'islam', 'hole', 'vali', 'nightmare', 'ab', 'khana', 'roti', 'pata', 'ghar', 'jake', 'travel', 'assam', 'american', 'wants', 'plane', 'send', 'app', 'put', 'weight', 'friend', 'source', 'explore', 'hay', 'careful', 'foreign', 'earn', 'pure', 'days', 'bengaluru', 'masala', 'kebab', 'lots', 'dosa', 'woww', 'rupees', 'chowk', 'wasn', '00', 'serving', 'swear', 'hence', 'shouting', 'smile', 'talk', 'actually', 'locals', 'faces', '48', 'lmao', 'mmmmmm', 'nadu', 'tamil', 'sikh', 'mein', 'tera', 'thali', 'talking', 'takes', 'bite', 'light', 'major', 'guessing', 'diseases', 'starting', 'type', 'cam', 'home', 'enjoyed', 'mention', 'roam', 'soo', 'happen', 'briyani', 'dum', 'hindus', 'nobody', 'against', 'humanity', 'news', 'modi', 'favourite', 'basharat', 'nature', 'leave', 'mad', 'telling', 'lagta', 'sb', 'reactions', 'fake', 'ahhh', 'paan', 'bitch', 'fool', 'either', 'tv', 'belly', 'thefoodranger', 'fucking', 'fyi', 'asking', 'wondering', 'ha', 'achi', 'kar', 'empty', 'sour', 'appetite', 'adorable', 'mmmmm', 'gya', 'muh', 'charged', 'khaya', 'abey', 'regular', 'until', 'tries', 'coz', 'entertaining', 'enjoys', 'btw', 'creepy', 'hii', 'gappa', 'vegetarian', 'pissed', 'cooks', 'ping', 'improve', 'messy', 'deo', 'part', 'uttar', 'baba', 'chutiya', 'ak', 'toilet', 'night', 'manners', 'wide', 'public', 'stories', 'told', 'hats', 'basic', 'similar', 'ive', 'ready', 'roadside', 'partha', 'dust', '90', 'spice', 'smelly', 'poop', 'issue', 'saying', 'morning', 'smoke', 'handle', 'sanitary', 'spent', 'judging', 'regardless', 'liked', 'ill', '200', '250', 'bruh', 'ugly', 'yum', 'crap', 'hub', 'depends', 'before', 'indonesian', 'listen', 'four', 'table', 'china', 'human', 'fucks', 'leg', 'expect', 'recommend', 'tounge', 'control', 'strike', 'pretty', 'shouldn', 'foodies', 'become', 'first', 'vegetable', 'kake', 'bihar', 'havent', 'du', 'oldest', 'proof', 'costly', 'wanted', 'pehle', 'singh', 'bola', 'music', 'sensation', 'sahi', '54', 'husband', 'bolo', 'learning', 'cuisine', 'ethnic', 'frothy', 'chaat', 'daulat', 'maine', 'sa', 'kabhi', 'dead', 'unhygienic', 'turns', 'somehow', 'allah', 'hu', 'reason', 'tummy', 'greedy', 'confuse', 'added', 'da', 'dhaba', 'freaking', 'soul', 'two', 'found', 'ting', 'glad', 'junk', 'items', 'malaysia', 'hahahahaha', 'between', 'click', 'bhurji', 'corner', 'banaya', 'milta', 'nai', 'hoga', 'priced', 'vala', 'turkish', 'tasted', 'bcz', 'khan', 'slave', 'mentality', 'crowded', 'bhook', 'gaye', 'awsome', 'surprised', 'tours', 'personality', 'disgrace', 'americans', 'themselves', 'asia', 'priceless', 'appreciate', 'vlog', 'deal', 'madhya', 'atleast', 'indore', 'incredible', 'voice', 'sucks', 'form', 'allowed', 'imran', 'ch', 'card', 'accept', 'cash', 'secret', 'hold', 'idea', 'dis', 'fast', 'hmmmm', 'screaming', 'cheap', 'seemed', 'normal', 'higher', 'report', 'remove', 'huge', 'myself', 'liye', 'kyo', 'nahin', 'zyada', 'hamare', 'hindustan', 'triggered', 'drop', 'vendor', 'brains', 'discover', 'yourself', 'bhenchod', 'wale', 'chat', 'costs', 'ok', 'address', 'mughlai', 'exist', 'anyone', 'whatsapp', 'group', 'tips', 'question', 'sponsored', 'feeding', 'families', 'christians', 'unfortunately', 'common', 'laughing', 'own', 'starts', 'visiting', 'handled', 'yuk', 'peoples', 'loving', 'away', 'jst', 'yep', 'mcdonald', 'unhealthy', 'january', '2018', 'mat', 'bol', 'chup', 'reh', 'hungary', 'park', 'vehicle', 'saifi', 'ikr', 'stuck', 'jama', 'three', 'station', 'masjid', 'ride', 'jana', 'little', 'appealing', 'madarchod', 'steal', 'vid', 'everywhere', '8', 'nazi', 'malabar', 'things', 'mashallah', 'likes', 'ask', '15', 'business', 'busy', 'yup', 'max', 'fix', 'pig', 'comparison', 'war', 'killing', 'fun', 'total', 'second', 'style', 'learn', 'lovely', 'views', 'metal', 'use', 'fruit', 'least', 'fresh', 'guess', 'considering', 'gulab', 'rasgulla', 'tikki', 'gajar', 'ras', 'sweets', 'jamun', 'halwa', 'e', 'salty', 'th', 'zombie', 'mind', 'offense', 'serious', 'okay', '11', 'changed', '26', '1000', 'ten', 'korma', 'minutes', 'idk', 'cleaner', 'usually', 'saala', 'expression', 'min', 'genuinely', 'interesting', 'crave', 'stew', 'gmail', 'laugh', 'tea', 'faluda', 'family', '08', 'somebody', 'fell', 'inspired', 'dislikes', '0', 'below', 'lamb', 'calling', 'copy', 'innovative', 'rofl', 'offensive', 'aber', 'bin', 'germany', 'excellent', 'body', '99', 'travelling', 'addicted', 'ended', 'holiday', 'terrible', 'terroristan', 'burkha', 'dip', 'dirtiest', 'problem', 'bowl', 'care', 'potatoes', 'washing', 'meet', 'woow', 'pepper', 'blogger', 'aap', 'savage', '18', 'gem', 'another', 'joy', 'british', 'knows', 'b', 'middle', 'native', 'filipino', '44', 'standing', 'humour', 'ish', 'joking', 'poo', 'colin', 'mcginn', 'frozen', 'surprise', 'thick', 'ganges', 'lower', 'filthy', 'lies', 'wash', 'yours', 'trying', 'board', 'ignorant', 'arms', 'miserable', 'fed', 'seeing', 'piss', 'whats', 'response', 'idiots', 'raw', 'vomiting', 'afford', 'shoes', 'meals', 'shut', 'checked', 'insulting', 'national', 'teach', 'list', 'history', 'posts', 'beyond', 'insects', 'commenting', 'dad', '33', 'lentil', 'pronounces', 'forgot', 'record', 'wise', 'guilty', 'truthfears', 'deli', 'write', 'yuck', 'dunno', 'done', 'mosque', 'donot', 'step', 'feces', 'hype', 'complete', 'vancouver', 'cheers', 'bc', 'extreme', 'theres', 'western', 'judge', 'lin', 'wrote', 'opinion', 'multiple', 'buds', 'bat', 'vomit', 'cat', 'ashish', 'drinking', 'dehli', 'president', 'rai', 'dr', 'customer', 'late', '46', 'sometimes', 'ages', '400', 'seekh', 'ingredient', 'nhi', 'kuch', 'mann', 'dollars', 'disliked', '2k', 'sharma', 'deadly', 'infection', 'buy', 'parathas', 'future', 'afraid', 'worthy', 'saffron', 'increase', 'wearing', 'months', 'anymore', 'state', 'double', 'burger', 'large', 'isnt', 'european', 'might', 'beer', 'hard', 'vishal', 'powder', 'coriander', 'easily', 'oven', 'flavors', 'won', 'cheese', 'stick', 'changes', 'beats', 'greatest', 'ny', 'pizzas', 'southern', 'italy', 'match', 'g', 'gosh', 'half', 'nearly', 'lack', 'entire', 'feels', 'experiences', 'bilal', 'raja', 'aapke', 'jaise', 'view', 'everybody', 'mostly', 'language', 'forcing', 'ignore', 'obvious', '60', 'md', 'odd', 'verma', 'vegetarians', 'plenty', 'far', 'concerned', '80', 'sunny', 'meats', 'hoti', 'ham', 'edit', 'khate', 'chor', 'persian', 'folks', 'syed', 'shah', 'kiya', 'abe', 'dickhead', 'ex', 'origin', 'mughal', 'simple', 'kaha', 'gandu', 'chut', 'mei', 'dekho', 'baat', 'terrorist', 'jan', 'le', 'rhi', 'kutte', 'khud', 'isn', 'note', 'passionate', 'required', 'both', 'recommendation', 'right', 'ummm', 'falooda', 'afterwards', 'yash', 'cry', 'agreed', 'extremely', 'dump', 'cameraman', 'website', '05', 'kachoriwala', '47', 'attitude', 'somewhat', 'names', 'expressions', 'top', 'wont', 'barely', 'clearly', 'filmed', 'express', 'exploration', 'perfect', 'lolz', 'reminds', 'philippines', 'nicely', 'developed', 'obesity', 'kutchch', 'decent', 'tbh', 'kulcha', 'chhole', 'known', 'originated', 'dahi', 'momos', 'hyderabad', 'afghanistan', 'traveler', 'showing', 'nila', 'suggest', 'whatever', 'religion', 'discriminate', 'religions', 'racism', 'peacefully', 'maximum', 'lying', 'visa', 'hater', 'peace', 'base', 'towards', 'lmfao', 'sugar', 'worlds', 'cheapest', 'nepali', 'sara', 'subscriber', 'somewhere', 'pity', 'diarrhoea', 'plates', 'plus', 'sum', 'mainstream', 'giving', 'naga', 'tribal', 'fish', 'crazy', 'curries', 'bunch', 'westerners', 'car', 'hv', 'yesterday', 'ultimate', 'bringing', 'walk', 'journey', 'uploading', 'kinds', 'urine', 'onion', 'especially', 'shillong', 'took', '23', 'princess', 'forehead', 'bigger', 'kid', 'angry', 'appreciated', 'rahman', 'flavour', 'return', 'moving', 'ancient', '14', 'finally', 'staying', 'zealand', 'worse', 'support', 'pumped', 'email', 'karachi', '21', 'strong', 'point', 'immune', 'filled', 'systems', 'star', 'hygenic', 'ours', 'kindness', 'five', 'educated', 'stfu', 'weak', '38', 'mom', 'everyday', 'clean', 'including', 'desserts', 'recipes', 'throughout', 'hair', 'till', 'grease', 'awareness', 'digestive', 'populated', '2nd', 'largest', 'daily', 'hm', 'correct', 'yaha', 'tak', 'saale', 'biggest', 'shame', 'aryan', 'maa', 'joke', 'naans', 'expecting', 'stares', 'interested', 'none', 'thnx', 'ji', 'wouldn', 'based', 'tastier', 'mmmm', 'trouble', '03', 'html', '09', '2017', 'halal', 'robbed', 'oooh', 'historical', 'became', 'however', 'uncomfortable', 'accepted', 'fork', 'indonesia', 'scammers', 'gotta', 'introduced', 'understanding', 'al', 'free', 'party', 'phir', 'smh', 'shit', 'dumb', 'waste', 'em', 'uh', 'dollar', 'gold', 'solid', 'disrespectful', 'testy', 'karnataka', 'passion', 'sala', 'continent', 'doctor', 'salmonella', 'friends', 'bottom', 'studied', 'college', 'line', 'fight', 'period', 'soham', 'makwana', 'harsh', 'cos', 'flag', 'colours', 'poda', 'hehe', 'sees', 'truly', 'ticket', 'class', 'describes', 'delight', 'yay', 'colorful', 'foody', 'outstanding', 'metro', 'catch', 'nagar', 'cause', 'hehehehe', 'thoughts', 'host', 'gr8', 'chew', 'experienced', 'worst', 'kulche', 'growing', 'survive', 'tht', 'bt', 'guest', 'loser', 'otherwise', 'explained', 'gross', 'million', 'fuckin', 'unique', 'collection', 'pooping', 'power', 'overpriced', 'needs', 'died', 'happened', 'cup', 'trash', 'credit', 'yeahhh', 'served', 'alive', 'northeast', 'penny', 'pay', 'twice', 'abhishek', 'wat', 'broke', 'stands', 'medical', 'treatment', 'diet', 'according', 'level', 'therapy', 'constipation', 'mike', 'unlike', 'kudos', 'scared', 'obsessed', 'works', 'stronger', 'practice', 'alone', 'unless', 'store', 'foodranger', 'climate', 'maharashtra', 'change', 'colour', 'order', 'asked', 'mum', 'youre', 'alot', 'mujhe', 'har', 'kyun', 'milega', 'apply', 'alam', 'tou', 'mil', 'jaye', 'small', 'hes', 'explored', '02', 'able', 'several', 'covered', 'tourists', 'negative', 'hmmmmm', 'par', 'walo', 'aik', 'pr', 'america', 'vagene', 'issues', 'pain', 'energetic', 'crew', 'cultures', 'aint', 'puke', 'fine', 'blessed', 'toilets', 'envious', 'parasites', 'wall', 'intestinal', 'immunity', 'shows', 'harm', 'worms', 'chili', 'tons', 'likely', 'nyc', 'keeping', 'moved', '27', 'tingting', 'turn', 'killer', 'mark', 'ooooo', 'oooo', 'finish', 'sides', 'aamir', 'mehmood', 'ash', 'accepting', 'reality', 'waiting', 'karte', 'hopefully', 'london', 'relatives', 'raised', 'de', 'apna', 'jaipur', 'teri', 'tumhe', 'raj', 'duniya', 'kharab', 'tumhare', 'naam', 'sharam', 'kr', 'behen', 'arey', 'lga', 'kam', 'lekin', 'lets', 'ones', 'weekend', 'bike', 'stuffing', 'bus', 'lord', 'terrorism', 'occupied', 'dat', 'patel', 'idiot', 'randi', 'saurabh', 'sali', 'ban', 'dost', 'sakte', 'govt', 'jihadi', 'sending', 'blow', 'replies', 'economy', 'causes', 'government', 'standards', 'pro', 'bna', 'kill', 'corrupt', 'politicians', 'spreading', 'abdullah', 'vada', 'pav', 'army', 'among', 'nailed', 'emotional', 'liking', 'read', 'whether', 'average', 'offer', 'wife', 'scenes', 'behind', 'tasteless', 'ratings', 'offers', 'bye', 'trump', 'citizenship', 'since', 'finding', 'spotted', 'europe', 'constitution', 'perez', 'diego', 'community', 'process', 'owner', 'greet', 'higiene', 'korea', 'ruby', 'across', 'sumit', 'guru', 'woh', 'gill', 'cancer', 'maan', 'tune', 'dev', 'symbol', 'flavor', 'hundreds', 'build', 'maja', 'chutiye', 'vietnam', 'follow', 'criticism', 'handling', 'hmmm', 'sadly', 'gotten', 'yea', 'pradhan', 'environment', 'exact', 'bank', 'regularly', 'plan', 'dirt', 'vids', 'instagram', 'original', 'disagree', 'statement', 'upload', 'posting', 'aashu', 'auto', 'dam', 'kaun', 'pura', 'en', 'desh', 'akbar', 'kahi', 'denge', 'thi', 'fair', 'bhosdi', 'jyada', 'sabse', 'usne', 'aditya', 'pandey', 'selling', 'noticed', 'ramsay', 'gordon', 'aye', 'dete', 'bahar', 'fir', 'kisi', 'deta', 'suppose', 'satisfying', 'spot', 'background', 'awkward', 'ppl', 'lovers', 'rock', 'arm', 'rajasthan', '3rd', 'generation', 'mixed', 'count', 'ooh', 'woah', 'pic', 'goat', 'fucker', 'jobs', 'uae', 'millions', 'shithole', 'african', 'compliment', 'lives', 'caste', 'equally', 'pass', 'mughals', 'sana', 'chahiye', 'jo', 'krte', 'jb', 'logo', 'rehte', 'amrit', 'kyu', 'gupta', 'pta', 'bilkul', 'sale', 'christian', 'media', 'garbage', 'bhul', 'usko', 'hua', 'june', 'mara', 'noida', 'sarkar', 'meri', 'pe', 'karna', 'society', 'rahi', 'mere', 'desi', 'sanitation', 'rocks', 'westerner', 'seconds', 'genuine', 'scam', 'site', 'rates', 'paying', 'dinner', 'jawahar', 'reasonable', 'pin', 'overly', 'hour', 'talked', 'stand', 'alert', 'grew', 'quit', 'hours', 'size', 'male', 'film', 'extra', 'tip', 'positive', 'speaking', 'dieting', 'chana', 'aloo', 'often', 'j', 'adore', 'excitement', 'subscribed', 'salivating', 'enthusiasm', 'episode', 'involved', 'throw', 'root', 'century', 'edible', 'tj', 'science', 'crying', 'sri', 'lanka', 'lankan', 'after', 'herbs', 'face', 'request', 'trips', 'bathroom', 'adventurous', 'spirit', '19', 'ourselves', 'weren', 'introduce', 'forget', 'lucky', 'meaning', 'calories', 'slaughter', 'kindly', 'search', 'benefits', 'links', 'zakir', 'clip', 'exploring', 'rejected', 'interest', 'gym', 'comida', 'basically', 'consumption', 'algeria', 'tym', 'mint', 'subcontinent', 'jamaica', 'felt', 'post', 'mi', 'ways', 'torture', 'mmmmmmmm', 'crunchy', 'nagaland', 'garlic', 'putting', 'gives', 'feelings', 'sexy', 'vijayawada', 'craving', 'kashmiri', 'less', 'manage', 'pronounced', 'jaan', 'short', 'products', 'disease', 'describing', 'bhature', 'sheep', 'dipping', 'ull', 'winters', 'islamic', 'kids', 'beggars', 'offence', 'boyfriend', 'nagpur', 'thinks', 'thumbs', 'tasting', 'cents', 'prawn', 'royal', 'boss', 'israel', 'yaad', 'beta', 'kaisa', 'baby', 'culinary', 'un', 'tooo', 'indiana', 'following', 'plzz', 'checkout', 'year', 'chi', 'damm', 'cringe', 'handsome', 'alley', 'alright', 'loud', 'runs', 'knowing', 'kidding', 'minimum', 'dudes', 'bollywood', 'pricing', 'replied', 'left', 'bata', 'bought', 'jagah', 'bengal', 'jaisa', 'depend', '58', 'sirf', '32', 'caribbean', 'pune', 'hidden', 'fail', 'promote', 'tone', 'changing', 'nuts', 'rest', 'intestines', 'shitting', 'questions', 'necessary', 'michelle', 'kept', 'aisa', 'sakta', 'ja', 'darn', 'ps', 'jai', 'slow', 'wishes', 'roads', 'sameer', 'named', 'kolhapur', 'licking', 'fingers', 'knew', 'buying', 'spoken', 'whom', 'shezhd', 'mohamed', 'pervert', 'difference', 'dono', 'jk', 'dubai', 'serve', 'lion', 'death', 'talks', 'mother', 'ugh', 'fighting', 'fuk', 'mera', 'thanku', 'troll', 'arun', 'maar', 'lund', 'kat', 'urs', 'owners', 'fluent', 'value', 'diverse', 'cousin', 'better', 'seller', 'marry', 'kay', 'desperate', 'ph', 'ooo', 'knowledge', 'avg', 'tiwari', 'goats', 'defecate', 'animals', 'beaches', 'wowww', 'girlfriend', 'adventure', 'gamer', 'addictive', 'bature', 'heat', 'mid', 'chole', 'sweat', 'shower', 'played', 'degree', 'himself', 'kala', 'bharat', 'rao', 'essence', 'crack', 'sarcasm', 'relax', 'series', 'pop', 'rotten', 'becoz', 'aka', 'standard', 'cheated', 'impress', 'happening', 'yumm', 'lazy', 'bazar', 'sell', 'delivery', 'te', 'chop', 'lunch', 'veggies', 'sexual', 'hehehe', 'gd', 'description', 'himachal', 'district', 'wana', 'bacteria', 'destroyed', 'quick', 'kitchens', 'joshi', 'dark', 'fruits', 'org', 'grown', 'juice', 'hairy', 'preparing', 'hygienic', 'copied', 'rare', 'tube', 'hamara', 'terrorists', 'doesnt', 'afghan', 'influenced', 'bullshit', 'hamza', 'kiss', 'insanely', 'streetfood', 'fly', 'michael', 'upon', 'jon', 'statistics', 'rape', 'situation', 'police', 'crime', 'third', 'easier', 'data', 'suffer', 'areas', 'accurate', 'gutter', 'woman', 'planet', 'above', 'throwing', 'krishna', 'breakfast', 'important', 'cows', 'aswell', 'mainly', 'ramsey', 'neither', 'drive', 'nor', 'smiles', 'possibly', 'stayed', 'options', 'bring', 'infrastructure', 'past', 'buildings', 'culturally', 'ignorance', 'cares', 'tiny', 'subway', 'homeless', 'rat', 'stinky', 'butthurt', 'congratulations', 'eww', 'discusting', 'fascinating', '13', 'eh', 'jail', 'mob', 'detail', 'checking', 'resident', 'spoke', 'searching', 'skip', 'ads', 'awe', 'date', 'touched', 'space', 'bombs', 'starving', 'imagine', 'corn', 'carry', 'england', 'quickly', 'rolled', 'closed', 'within', 'curious', 'intelligent', 'perhaps', 'preparation', 'fart', 'happens', 'matters', 'broken', 'instant', 'white', 'uploads', 'pal', 'anti', 'sarcastic', 'steve', 'always', 'saliva', 'meant', 'case', 'routine', 'shape', 'exciting', 'mp', 'styles', 'parts', 'porkistan', 'gods', 'rapist', 'kevin', 'keith', 'bagh', 'karol', 'google', 'plastic', 'son', '17', 'fuck', 'willing', 'tech', 'whoa', 'chu', 'piece', 'traditional', 'tempting', 'highly', 'disappointed', 'diary', 'gone', 'ew', 'itself', 'perspective', 'sandwich', 'expert', 'attention', '57', 'driver', 'couple', 'poori', 'market', 'killed', 'mentioned', 'directly', 'noodles', 'sake', 'slang', 'charming', 'safe', 'cut', 'bhopal', 'beside', 'um', 'present', 'pleasure', 'professional', 'social', 'puller', 'proper', 'phd', 'wiens', 'thin', 'haters', 'charm', 'fats', 'abroad', 'complain', 'umm', 'guaranteed', 'phillipines', 'commentary', 'smashed', 'save', 'explaining', 'ethiopia', 'flies', 'uploaded', 'bob', 'treats', 'yr', 'jakarta', 'lil', 'scale', 'plans', 'pride', 'minute', 'developing', 'russia', 'russian', 'ap', 'eater', 'singapore', 'srilanka', 'risk', 'anyway', 'props', 'humor', 'notice', '28', 'poison', 'tai', 'ranging', 'connection', 'correctly', 'lissu', 'lopez', 'connected', 'pooja', 'flight', 'minded', 'bull', 'worship', 'grow', 'warrior', 'childhood', 'temple', 'hypocrites', 'buff', 'vegan', 'aspect', 'provided', 'indeed', 'parents', 'boi', 'alpha', 'book', 'picture', 'organisms', 'eaters', 'stinking', 'telangana', 'included', 'justice', 'waha', 'fahad', 'gg', 'mohd', 'helpful', 'dumbass', 'dig', 'scams', 'mistake', 'eateries', 'nowhere', 'acting', 'visitors', 'habit', 'smart', 'bhoir', 'rules', 'offended', 'finger', 'terms', 'hurts', 'town', 'offering', 'anytime', 'unlimited', 'bombed', 'thailand', 'spit', 'pea', 'stupid', 'letting', 'sam', 'peaceful', 'angrez', 'congrats', '07', 'drivers', 'earning', 'dua', 'push', 'familiar', 'david', 'brought', 'bond', 'stranger', 'beliefs', 'differently', 'chef', 'shy', 'uneducated', 'strangers', 'freak', 'ind', 'insult', 'offend', 'band', 'rn', 'africans', 'racists', 'arabs', 'majority', 'mentally', 'retarded', 'exists', 'europeans', 'brown', 'slum', 'kirti', 'cast', 'behaving', 'learned', 'behaviour', 'belong', 'eye', 'vision', 'spelled', 'sichuan', 'foood', 'harami', 'jokes', 'billion', 'steel', 'forever', 'entertainment', 'mam', 'adam', 'maintain', 'youtuber', 'truth', 'amazingly', 'describe', 'comparing', 'riktam', 'octopus', 'bangladeshis', 'asses', 'calm', 'buffet', 'birds', 'turkey', 'spending', 'fishes', 'atul', 'previous', 'wajah', 'dil', 'sapra', 'likha', 'wikipedia', 'income', 'moreover', 'york', 'nt', 'pakora', 'subscribing', 'subs', '500k', 'appreciation', 'replying', 'sentence', 'slap', 'kali', 'uzbekistan', 'central', 'introduction', 'amritsar', 'funniest', 'protein', 'ewww', 'dieselmo2nv', 'color', 'besides', 'claim', 'theirs', 'dem', 'impressed', 'hardly', 'responsible', 'dropped', 'hearted', 'organic', 'strange', 'followed', 'inspiration', 'bored', 'binge', 'completely', 'gained', 'awful', 'bud', 'apart', 'subscribers', 'lit', 'walks', 'faster', 'play', 'bath', 'mexican', 'ruth', 'castaneda', 'mexicans', 'mexico', 'wth', '1st', 'gtfo', 'gorgeous', 'sauce', 'ra', 'alcohol', 'religious', '24', 'confusing', 'si', 'que', 'era', 'es', 'mata', 'x', 'tired', 'ghost', 'fans', '000', 'morocco', '16', 'remember', 'practices', 'surat', 'eggs', 'item', 'lane', 'chilly', 'iran', 'elham', 'honking', 'ahead', 'shitty', 'retard', 'lose', 'blind', 'dough', 'ahmed', 'balochistan', 'baloch', 'lajpat', 'internet', 'meeting', 'shall', 'praise', 'thx', 'tomorrow', 'ram', 'informative', 'gud', 'phone', '55', 'daniel', 'answer', 'excuse', 'antibiotics', 'puts', 'perfectly', 'argument', 'legend', 'sooooo', 'brazil', 'kitchen', 'complaining', 'malaysian', 'button', 'fr', 'anthony', 'serves', 'showed', 'shud', 'wasting', 'account', 'regarding', 'filth', 'yu', 'changezi', 'garden', 'shawarma', 'production', 'channels', 'admit', 'darjeeling', 'effort', 'toronto', 'nations', 'massive', 'cravings', 'asap', 'tawa', 'olive', 'law', 'facts', 'cleanliness', 'notes', 'portugal', 'fingernails', 'expected', 'hang', 'tradition', 'romantic', 'fabrizio', 'bother', 'modern', 'older', 'flat', 'fault', 'owned', 'break', 'citizens', 'hospitality', 'luxury', 'access', 'stone', 'master', 'details', 'tells', 'cases', '31', 'improved', 'term', 'rural', 'paste', 'pots', 'pans', 'decided', 'unsanitary', 'ment', 'mcd', 'kfc', 'trend', 'tag', 'tolerance', 'hurt', 'kinda', 'cp', 'chuchu', 'armpit', 'co', 'mangalore', 'trevors', 'boring', 'enthusiast', 'dilli', 'saad', 'grandfather', 'gaurav', 'yess', 'sunday', 'resistant', 'various', 'reasons', 'centuries', 'jay', 'hind', 'jews', 'pm', 'technically', 'room', 'comfortable', 'realise', 'allergic', 'suggestions', 'wiki', 'hav', 'continue', 'officially', 'engaged', 'beach', 'regret', 'av', 'bhaiya', 'song', 'studying', 'wao', 'planning', 'asian', 'particular', 'lips', 'ridiculous', 'local', 'bombay', 'consider', 'ari', 'couldn', 'marriage', 'moon', 'taken', 'version', 'lie', 'kong', '49', 'hasn', 'generalise', 'spoon', 'ring', 'points', 'iv', 'ago', 'kulfi', 'mango', 'palak', 'rajinder', 'skinny', 'welcomed', 'recently', 'touches', 'usual', 'tunday', 'father', 'border', 'frm', 'prep', '34', 'air', 'hospital', 'represent', 'travelled', 'legendary', 'fear', 'digest', 'opening', 'shots', 'pre', 'blame', 'brainwashed', 'annoyed', 'roast', 'manner', 'weins', 'songs', 'playing', 'kills', 'reading', 'rub', 'nose', 'murmad', 'studies', 'hotels', 'hide', 'species', 'hrs', 'bon', 'adventures', 'chen', 'adding', 'amounts', 'ball', 'lul', 'grade', 'ty', 'stuffs', 'paranthas', 'glove', 'clarified', 'aside', 'leftover', 'natural', 'include', 'footage', 'enjoyable', 'constantly', 'msg', 'rarely', 'aroma', 'cusine', 'illegal', 'assume', 'consume', 'currently', 'poorest', 'wouldnt', 'mess', 'sagar', 'admire', 'heartwarming', 'dd', 'anand', 'smoking', 'paper', 'rolls', 'unity', 'mc', 'jaiswal', 'walls', 'balls', 'peter', 'tollan', 'uncivilized', 'barbarians', 'accents', 'habits', 'evolved', 'onto', 'hut', 'manipur', 'tap', 'guwahati', 'exposure', 'acid', 'coolest', 'spots', 'john', 'yall', 'ending', 'anyways', 'yrs', 'assist', 'kathmandu', 'nooo', 'red', 'range', 'taught', 'faisal', 'neighborhood', 'highest', 'mu', 'shout', 'reach', 'mins', 'bihari', 'child', 'wipe', 'overload', 'irrelevant', 'secondly', 'thai', 'supposed', 'customers', 'slightly', 'obama', 'dose', 'ivana', 'youtubers', 'sweetheart', 'thrice', 'queen', 'bhubaneswar', 'priya', 'horrible', 'suspect', 'mail', 'outsiders', 'taj', 'mar', 'dena', 'girl', 'welcomes', 'roll', 'curd', 'colony', 'rubbish', 'loo', 'britain', 'advanced', 'desert', 'percent', 'gravy', 'jelly', 'further', 'happiness', 'arabia', 'horn', 'chawal', 'chickpea', 'philipines', '59', 'vietnamese', 'married', 'edward', 'sort', 'joint', 'guests', 'narrow', 'badly', 'haat', 'audience', 'classic', 'ghee', 'clicked', 'shankar', 'honey', 'outside', 'advice', 'frank', 'pathetic', 'frankly', 'superior', 'action', 'choose', 'certainly', 'cover', 'menu', 'setting', 'unclean', 'deserve', 'practicing', 'rule', 'development', 'pee', 'shofik', 'image', 'richer', 'proved', 'regards', 'amaze', 'ween', 'beaut', 'salad', 'nut', 'kim', 'heavenly', 'ratio', 'eli', 'indias', 'mile', 'factory', 'met', 'golden', 'jones', 'anybody', 'bubble', 'set', 'staring', 'hygine', 'uske', 'asks', 'thumbnail', 'originally', 'worker', 'stall', 'shes', 'recording', 'knw', 'grt', 'andy', 'hearts', 'magical', 'research', 'travellers', 'drinks', 'diabetes', 'cleanest', 'adopt', 'honour', 'shaikh', 'feeds', 'cultural', 'earlier', 'andrew', 'shirt', 'spoiled', 'energy', 'ohio', 'korean', 'react', 'mixture', 'hawaii', 'signature', 'jump', 'cottage', 'plain', 'understood', 'aids', 'political', 'fav', 'dairy', 'overall', 'march', 'hoo', 'hating', 'despite', 'moments', 'coco', 'fabulous', 'lee', 'leaving', 'gang', 'rick', 'northeastern', 'stephanie', 'hot', 'running', 'poha', 'laga', 'kai', 'breads', 'pvp', 'dick', 'penis', 'needed', 'aware', 'civilization', 'commented', 'fu', 'early', 'repeat', 'nigga', 'successful', 'general', 'manish', 'unsafe', 'pollution', 'village', 'wedding', 'poops', 'basis', 'daddy', 'stark', 'ujjwal', 'masters', 'decades', 'logic', 'ruchir', 'prajapati', 'france', 'chose', 'remembered', 'official', 'category', 'weed', 'bed', 'realize', 'thread', 'skills', 'complex', 'racist', 'difficult', 'salute', 'karo', 'slaves', 'treated', 'ruled', 'force', 'gift', 'stars', 'esp', 'coincidence', 'monkeys', 'company', 'tax', 'nonetheless', 'whistling', 'located', 'frying', 'ankit', 'northern', 'pugsley', 'ofcourse', 'adams', 'education', 'saurav', 'hates', 'approach', 'river', 'bodies', 'negativity', 'horror', 'pull', 'chala', 'texas', 'island', 'posted', 'alan', 'polluted', 'ton', 'destinations', 'lsd', 'referring', 'international', 'weather', 'festival', 'diwali', 'tokyo', 'allow', 'bs', 'assuming', 'discussion', 'harmful', 'topic', 'bleach', 'hussain', 'roy', 'ahahah', 'banerjee', 'mohan', 'yey', 'neat', 'helps', 'popped', 'huh', 'loads', 'bake', 'momo', 'appear', 'example', 'pancake', 'flour', 'provide', 'marketing', 'mac', 'ad', 'om', 'mood', 'produce', 'train', 'ravi', 'nahari', 'thanx', 'loose', 'lynch', 'motherland', 'eagerly', 'senses', 'meghalaya', 'lines', 'airport', 'caring', 'bangla', 'ramzan', 'pause', 'destination', 'create', 'anubhav', 'selection', 'bhooka', 'saand', 'murder', 'sudan', 'syria', 'boys', 'anubav', 'cambodia', 'hiding', 'azan', 'singing', 'pray', 'vo', 'result', 'children', 'art', 'goal', 'final', 'didier', 'schmit', 'bloody', 'shock', 'isis', 'safer', 'paul', 'birthday', 'breaking', 'clothes', 'propaganda', 'praying', 'iftar', 'vande', 'lifestyle', 'melting', 'st', 'dress', 'shukriya', 'warming', 'opposite', 'homes', 'bites', 'smaller', 'hometown', 'greasy', 'temples', 'musalman', 'pieces', 'mankind', 'rituals', 'resist', 'mmmmmmmmmm', 'jfc', 'blowing', 'hath', 'saath', 'jalebi', 'swallow', 'mixing', 'teeth', 'ocean', 'utensil', 'thy', 'customs', 'atheist', 'swastika', 'considered', 'freely', 'banana', 'apple', 'titles', 'character', 'front', 'festivals', 'acche', 'office', 'muhammad', 'hinduism', 'talented', 'stink', 'disrespect', 'harmony', 'representing', 'traditions', 'freakin', 'accha', 'punch', 'dfc', 'memories', 'neo', 'chilli', '45', 'teasing', 'throat', 'madrchod', 'secular', 'haryana', 'baad', 'diaz', 'shark', 'ga', 'gaand', 'kia', 'arab', 'theek', 'hote', 'aise', 'nafrat', 'equal', 'age', 'das', 'gandhi', 'celebrate', '101', 'machine', 'combination', 'tumhara', 'bsdk', 'porki', 'salman', 'surgery', 'immediately', 'jab', 'tumhari', 'chanel', 'arabic', 'faves', 'sisters', 'washed', 'advance', 'ridiculously', 'jati', 'bay', 'killings', 'suar', 'disha', 'choudhury', 'rohit', 'virus', 'aggressive', 'lead', 'keyboard', 'insaniyat', 'aman', 'dance', 'bina', 'tanveer', 'tab', 'prakash', 'happily', 'ganda', 'lady', 'bakchodi', 'tujhe', 'hatred', 'smelling', 'rapists', 'dang', 'duck', 'mothers', 'trivandrum', 'bucket', 'dislike', 'key', 'generally', 'spider', 'daughter', 'beep', 'tastiest', 'mommy', 'september', 'traveller', 'moslem', 'invented', 'moron', 'produced', 'hume', 'aab', 'yah', 'scary', 'females', 'yogurt', 'update', 'motor', 'silicon', 'arent', 'success', 'fauzan', 'nadir', 'pallavi', 'bhosda', 'mini', 'story', 'q', 'outfit', 'sweetest', 'oops', 'sleep', 'haleem', 'whereas', 'holding', 'films', 'lel', 'computer', 'bias', 'fully', 'hygeine', 'overwhelmed', 'justin', 'kurta', 'rated', 'mo', 'ang', 'ideas', 'built', 'recent', 'treating', 'rana', 'gul', 'fallen', 'title', 'cared', 'upper', 'shared', 'impression', 'zulqarnain', 'miles', 'sikhs', 'kamal', 'kenya', 'lynching', 'yummm', 'utensils', 'infact', 'spiritual', 'trinity', 'dicamillo', 'scene', 'erebus', 'insta', 'pretending', 'sperm', 'entitled', 'spelling', 'study', 'abuse', 'tf', 'batter', 'bhaya', 'covering', 'joints', 'turmeric', 'dry', 'inspire', 'atithi', 'devo', 'bhava', 'shooting', 'joe', 'tandoor', 'wheat', 'horse', 'golay', 'focus', 'slowly', 'decide', 'thier', 'dicks', 'dalit', 'french', 'goin', 'helping', 'hero', 'curiosity', 'vloggers', 'prove', 'generous', 'freedom', 'separated', 'rights', 'hypocrisy', 'forced', 'patriotism', 'ground', 'kurtha', 'riding', 'viewers', 'cunt', 'behalf', 'rush', 'thankyou', 'hawk3r', 'chow', 'healthier', 'beaten', 'overpopulation', 'juicy', 'ly', 'anghel', 'miguel', 'invited', 'code', 'blasttrash', 'rapes', 'kuwarikutti', 'magic', 'cease', 'lita', 'current', 'precious', 'opinions', 'stunning', 'observation', 'puja', 'durga', 'birth', 'appropriation', 'moe', 'written', 'notification', 'created', 'spiced', 'bobs', '75', 'baiya', 'pot', 'cross', 'contamination', 'mizoram', 'shake', 'paaji', 'seat', 'reached', 'morons', 'blacks', 'mindset', 'username', 'feminist', 'pc', 'evening', 'related', 'stare', 'gambini', 'wore', 'bruno', 'occasions', 'field', 'amazon', 'stan', 'hire', 'illiterate', 'confused', 'followers', 'chefs', 'ranjan', 'uttarakhand', 'jus', 'blue', 'kuwait', 'creating', 'product', 'contents', 'belated', 'bauer', 'busch', 'nowadays', 'settle', 'german', 'oppressed', 'gaming', 'rajaa', 'lick', 'parveen', 'shahida', 'suffering', 'drugs', 'tables', 'imo', 'awesomeness', 'kick', 'musa', 'haque', 'bacon', 'hunter', 'atmosphere', 'khalifa', 'pyjama', 'mf', 'kuldeep', 'samson', 'thomas', 'shetty', 'mister', 'ordinary', 'surrounding', 'buyer', 'wasted', 'rocking', 'chick', 'editing', 'whr', 'feed', 'combo', 'event', 'thakur', 'subbed', 'race', 'arthouros', 'growth', 'temperature', 'cleaning', 'bitches', 'reported', 'intro', 'grandpa', 'pajama', 'gt', 'ninja', 'anime', 'cj', 'floor', 'japanese', 'trolling', 'choices', 'doin', 'spite', 'flavorful', 'kratos', 'kiara', 'trinidad', 'nz', 'heck', 'octopi', 'wild', 'sonny', 'squad', 'supporting', 'ganesh', 'mainland', 'hahahahah', 'wiping', 'digestion', 'amul', 'vegans', 'ng', 'batla', 'wheres', 'ewwww', 'bhuk', 'vry', 'varities', 'bastard', 'pair', 'zero', 'leaf', 'taco', 'omelette', 'mayur', 'rajendra', 'kachoris', 'womens', 'fist', 'monetization', 'ba', 'net', 'bowls', 'gurz', 'nick', 'peas', 'horns', 'nail', '56', 'cloth', 'wrap', 'clothing', 'boiled', 'deserts', 'solution', 'specific', 'asians', 'strictly', 'interaction', 'willi', 'bruce', 'motherfucker', 'act', 'connect', 'dessert', 'carrots', 'moms', 'pie', 'carrot', 'season', 'jam', 'tatti', 'pasand', 'moonglet', 'amar', 'colored', 'wiped', 'carbs', 'adapted', 'conscious', 'destiny', 'genius', 'lentils', 'pranav', 'bator', 'fitangie', 'female', 'george', 'texture', 'ceo', 'wud', 'lemon', 'icecream', 'jennifer', 'figure', 'mulla', 'kritika', 'leaves', 'dot', 'phuk', 'saavedra', 'pretend', 'guts', 'toppings', '04', 'viewer', 'yadav', 'kro', 'vi', 'vermicelli', 'purpose', 'davao', 'monkey', 'mj', 'fairly', 'vedios', 'drama', 'chickpeas', 'dave', 'tika', 'dumplings', 'ai', 'chhattisgarh', 'taxi', 'soup', 'silver', 'function', 'lete', 'dedication', 'shitters', 'bastards', 'arse', 'center', 'thn', 'finishing', 'spain', 'onions', 'dried', 'scoot', 'chinmay', 'lassi', 'dressing', 'coconut', 'influences', 'dutch', 'spitting', 'hahahahahahaha', 'literate', 'underrated', 'absolute', 'reviewers', 'burst', 'sarah', 'maria', 'raun', 'bengalis', 'bcde', 'islands', 'christine', 'black', 'diesel', 'notifications', 'girls', 'chola', 'wok', 'sticking', 'creative', '41', 'wil', 'fatty', 'online', 'fuiz13ax2ds', 'lookin', 'ship', 'vesiigixvrw', 'fries', 'lame', 'yellow', 'presenter', 'suddenly', 'veggie', 'whites', 'purana', 'firangi', 'upgrade', 'chips', 'burnt', 'tend', 'excreta', 'fox', 'orange', 'earned', 'dominos', 'oye', 'challenge', 'ilove', 'wolfgrrl', 'presence', 'anniversary', 'whoever', 'dfuswrxhi8i', '14s', 'jee', 'rakha', 'tomato', 'green', 'covers', 'yogesh', 'ist', 'falling', 'toxic', 'pale', 'asshole', 'mony', 'mufc', 'sahil', 'dj', 'snakes', 'destroy', 'scratching', 'soap', 'kart', 'suck', 'assholes', 'tissue', 'upside', 'alpana', 'jamoon', 'bahja', 'noor', 'bean', 'stole', 'azim', 'fauzul', 'widiana', 'winda', 'pineapple', 'glass', 'throats', 'besan', 'peppers', 'pussy', 'santianes', 'gernah', 'osm', 'adds', 'charles', 'neil', 'plays', 'trolled', 'ralte', 'zoram', 'sensitive', 'siddhi', 'burning', 'pinaki', 'chan', 'wears', 'worked', 'anonymous', 'alien', 'release', 'stubborn', 'wendy', 'silly', 'moka', '1m', 'logan', 'mystery', 'camphor', 'tobago', 'cilantro', 'faloodeh', 'bone', 'educational', 'insurance', 'minnesota', 'noodle', 'bandanna', 'laughed', 'iranian', 'minty', 'shove', 'shoves', 'washes', 'scratches', 'shoved', 'pushing', 'mouths', 'haduken', 'dope', 'press', 'bones', 'sucking', 'thumb', 'persia', 'kapoor', 'reviewer', 'eyebrows', '37', 'cocaine', 'flaming', 'syrup', 'rose', 'ox', 'cringy', 'onetrip', 'vibes', 'shoving', 'deepak', 'boiling', 'marrow', 'uncle', 'flame', 'snake', 'darrin', 'kal', 'pradeep', 'badass', 'rumali', 'pushed', 'anger', 'questioning', '42', 'picked', 'balance', 'h3akalee', 'unusual', 'nastiest', 'cocain', 'coffee', 'hadouken', 'boom', 'messed', 'sewai', 'giant', 'fck', 'workers', 'animation', 'angel', 'witty', 'stained', 'chapati', 'bandana', '1million', 'schools', 'tortilla', 'instrumental', 'tobacco', 'betel', 'verry', 'worm', 'abu', 'badiya', 'macky', 'valdez', 'bred', 'yoga', 'pink', 'swag', 'traffic', 'attractive', 'hella', 'theresa', 'rubrub', 'melts', 'cakes', 'der', 'copyright', 'besties', 'stolen', 'pelican', 'jess', 'fiji', 'coloured', '1mil', 'utube', 'valley', 'bestie', 'bigdawstv', 'besty', 'jodhpur', 'surviving', 'mengpeng', 'monberry', 'judgemental', 'cruze', 'marxist', 'track', 'annoying', 'sony', 'azor', 'ahai', 'quinn', 'carlo', 'jd', 'students', 'comedy', 'sticky', 'pastes', 'gautam', 'cooper', 'bradley', 'cucumbers', 'thug', 'koko', 'ray', 'vd', 'legit', 'livevil', 'deadpool', 'seeds', 'cucumber', 'motorcycle', 'hitting', 'bhatura', 'economically', 'clarify', 'definition', '43', 'buttons', 'gulaab', 'galauti', 'worrying', 'outro', 'adarsh', 'shittiest', 'bubbles', 'maida', 'unbiased', 'jumanji', 'mosue', 'rpvgvfzuiq0', 'messi', 'smith', 'singer', 'teacher', 'roleplay', 'voiceovers', 'baya', 'jason', 'lockagentdoes', 'crust', 'detroit', 'goddess', 'believed', 'pacman', 'radee', 'ral', 'leden', 'conversation', 'vagina', 'monkey1234512345', 'jane', 'sid', '600k', 'nipah', 'steven', 'manoj', 'nh', 'fermented', 'zen', 'moby', 'dragon', 'unexpected', 'communicate', 'cycle', 'demir', 'zg', 'gingerginger999', 'savchenko', 'anastasia', 'tav', 'rekha', 'cursed', 'blessings', 'rickshawala', 'kantia', 'literacy', 'themyscira', 'befrs', 'wheelchair', 'vee', 'octopuses', 'duty', 'bahn', 'undeserving', 'cuckold', 'holidaying', 'purple', 'arts', 'liberal', 'ranch', 'banh', 'chadha', 'nayak', 'vy', 'injuns', 'arjun', 'sly', 'awww', 'hosts', 'rikshaw', 'bhosadike', 'rikshawala', 'rasagulla', 'bosdike', 'bhosri', 'abused', 'gulabjamun', 'rassgulla', 'gulla', 'chla', 'rusgulla', 'riksha', 'driving', 'bolte', 'rasgula', 'harshita', 'stalin', 'gesture', 'gram', 'shrivastava', 'sachin', 'amaya', 'zelaya', 'qwertyasdfg500', 'paapi', 'newbie', 'whitefeild', 'oval', 'montage', 'pigeon', 'pigeons', 'burfi', 'bird', 'mia', 'garland', 'ark', 'barfi', 'kaju', 'katli', 'nath', 'nakshatraa', 'rk', 'klonji', 'hersin', 'maleficentmawile', 'avengers', 'kanji', 'kram', 'daisa', 'weingkham', 'namchoom', 'aniruddha', 'bhaduri']\n"
          ],
          "name": "stdout"
        }
      ]
    },
    {
      "metadata": {
        "id": "R1qa9zqLBNkj",
        "colab_type": "text"
      },
      "cell_type": "markdown",
      "source": [
        "*Padding for MLP*\n",
        "\n",
        "---\n",
        "\n",
        "\n",
        "\n",
        "---\n",
        "\n"
      ]
    },
    {
      "metadata": {
        "id": "QTIIDjt75rjx",
        "colab_type": "code",
        "colab": {}
      },
      "cell_type": "code",
      "source": [
        "zerovector=[]\n",
        "for i in range(68):\n",
        "  zerovector.append(0)\n",
        "# print(label)\n",
        "def sentencevector(sent):\n",
        "  vector=[]\n",
        "  for word in sent:\n",
        "    if(word  in words):\n",
        "       vector.append(model[word])\n",
        "    else:\n",
        "      vector.append(zerovector)\n",
        "  if(len(sent)<68):\n",
        "    for i in range(len(sent),68):\n",
        "      vector.append(zerovector)\n",
        "  return(vector)\n",
        "\n"
      ],
      "execution_count": 0,
      "outputs": []
    },
    {
      "metadata": {
        "id": "1Cp3Bt1sB41_",
        "colab_type": "text"
      },
      "cell_type": "markdown",
      "source": [
        "*Splitting into training and test data*\n",
        "\n",
        "---\n",
        "\n",
        "\n",
        "\n",
        "---\n",
        "\n"
      ]
    },
    {
      "metadata": {
        "id": "yKsFfxxq5vx5",
        "colab_type": "code",
        "outputId": "8400070b-f6e1-48bd-f56f-f6ada70fb2ad",
        "colab": {
          "base_uri": "https://localhost:8080/",
          "height": 72
        }
      },
      "cell_type": "code",
      "source": [
        "Xtotal=[]\n",
        "Ytotal=labelf\n",
        "for i in range(len(sentencesf)):\n",
        "  a=np.array(sentencevector(sentencesf[i]))\n",
        "  Xtotal.append(a)\n",
        "\n",
        "Xtrain=np.array(Xtotal[:20000])\n",
        "Xtest=np.array(Xtotal[20000:27263])\n",
        "Y_train=np.array(Ytotal[:20000])\n",
        "Y_test=np.array(Ytotal[20000:27263])\n",
        "X_train = Xtrain.reshape(Xtrain.shape[0], 68, 68 , 1).astype('float32')\n",
        "X_test=Xtest.reshape(Xtest.shape[0], 68, 68 , 1).astype('float32')\n",
        "\n",
        "\n"
      ],
      "execution_count": 0,
      "outputs": [
        {
          "output_type": "stream",
          "text": [
            "/usr/local/lib/python3.6/dist-packages/ipykernel_launcher.py:9: DeprecationWarning: Call to deprecated `__getitem__` (Method will be removed in 4.0.0, use self.wv.__getitem__() instead).\n",
            "  if __name__ == '__main__':\n"
          ],
          "name": "stderr"
        }
      ]
    },
    {
      "metadata": {
        "id": "o8PydhgPCDTl",
        "colab_type": "text"
      },
      "cell_type": "markdown",
      "source": [
        "*Model construction*\n",
        "\n",
        "---\n",
        "\n",
        "\n",
        "\n",
        "---\n",
        "\n"
      ]
    },
    {
      "metadata": {
        "id": "pcJB6ndG5zk_",
        "colab_type": "code",
        "outputId": "38218c3d-55d7-41bb-8439-717bbf6465fb",
        "colab": {
          "base_uri": "https://localhost:8080/",
          "height": 86
        }
      },
      "cell_type": "code",
      "source": [
        "model = tf.keras.models.Sequential([\n",
        "  tf.keras.layers.Flatten(),\n",
        "  tf.keras.layers.Dense(700, activation=tf.nn.relu),\n",
        "  tf.keras.layers.Dropout(0.3),\n",
        "  tf.keras.layers.Dense(100, activation=tf.nn.relu),\n",
        "  tf.keras.layers.Dropout(0.2),\n",
        "  tf.keras.layers.Dense(3, activation=tf.nn.softmax)\n",
        "])\n",
        "model.compile(optimizer='adam',\n",
        "              loss='sparse_categorical_crossentropy',\n",
        "              metrics=['accuracy'])\n",
        "\n",
        "model.fit(X_train, Y_train, epochs=1)\n",
        "model.evaluate(X_test, Y_test)\n"
      ],
      "execution_count": 0,
      "outputs": [
        {
          "output_type": "stream",
          "text": [
            "Epoch 1/1\n",
            "20000/20000 [==============================] - 32s 2ms/step - loss: 0.0070 - acc: 0.5485\n",
            "7263/7263 [==============================] - 2s 266us/step\n"
          ],
          "name": "stdout"
        },
        {
          "output_type": "execute_result",
          "data": {
            "text/plain": [
              "[1.4859545366392943e-05, 0.5361420899920928]"
            ]
          },
          "metadata": {
            "tags": []
          },
          "execution_count": 17
        }
      ]
    },
    {
      "metadata": {
        "id": "10YFt3gbizSs",
        "colab_type": "code",
        "outputId": "7e9d2550-ca4f-4378-bbdd-c05595560e47",
        "colab": {
          "base_uri": "https://localhost:8080/",
          "height": 347
        }
      },
      "cell_type": "code",
      "source": [
        "model.summary()"
      ],
      "execution_count": 0,
      "outputs": [
        {
          "output_type": "stream",
          "text": [
            "_________________________________________________________________\n",
            "Layer (type)                 Output Shape              Param #   \n",
            "=================================================================\n",
            "flatten (Flatten)            multiple                  0         \n",
            "_________________________________________________________________\n",
            "dense (Dense)                multiple                  323750    \n",
            "_________________________________________________________________\n",
            "dropout (Dropout)            multiple                  0         \n",
            "_________________________________________________________________\n",
            "dense_1 (Dense)              multiple                  7100      \n",
            "_________________________________________________________________\n",
            "dropout_1 (Dropout)          multiple                  0         \n",
            "_________________________________________________________________\n",
            "dense_2 (Dense)              multiple                  303       \n",
            "=================================================================\n",
            "Total params: 331,153\n",
            "Trainable params: 331,153\n",
            "Non-trainable params: 0\n",
            "_________________________________________________________________\n"
          ],
          "name": "stdout"
        }
      ]
    },
    {
      "metadata": {
        "id": "Pz8y-ORHiQTs",
        "colab_type": "code",
        "outputId": "59c1b4b3-1960-4002-df22-751b0d0d7245",
        "colab": {
          "base_uri": "https://localhost:8080/",
          "height": 81
        }
      },
      "cell_type": "code",
      "source": [
        "from IPython.display import SVG\n",
        "from keras.utils.vis_utils import model_to_dot\n",
        "\n",
        "SVG(model_to_dot(model).create(prog='dot', format='svg'))\n",
        "\n"
      ],
      "execution_count": 0,
      "outputs": [
        {
          "output_type": "execute_result",
          "data": {
            "text/plain": [
              "<IPython.core.display.SVG object>"
            ],
            "image/svg+xml": "<svg height=\"45pt\" viewBox=\"0.00 0.00 802.00 45.00\" width=\"802pt\" xmlns=\"http://www.w3.org/2000/svg\" xmlns:xlink=\"http://www.w3.org/1999/xlink\">\n<g class=\"graph\" id=\"graph0\" transform=\"scale(1 1) rotate(0) translate(4 41)\">\n<title>G</title>\n<polygon fill=\"#ffffff\" points=\"-4,4 -4,-41 798,-41 798,4 -4,4\" stroke=\"transparent\"/>\n<!-- 139941969835960 -->\n<g class=\"node\" id=\"node1\">\n<title>139941969835960</title>\n<polygon fill=\"none\" points=\"0,-.5 0,-36.5 113,-36.5 113,-.5 0,-.5\" stroke=\"#000000\"/>\n<text fill=\"#000000\" font-family=\"Times,serif\" font-size=\"14.00\" text-anchor=\"middle\" x=\"56.5\" y=\"-14.8\">flatten_1: Flatten</text>\n</g>\n<!-- 139941969838032 -->\n<g class=\"node\" id=\"node2\">\n<title>139941969838032</title>\n<polygon fill=\"none\" points=\"131,-.5 131,-36.5 238,-36.5 238,-.5 131,-.5\" stroke=\"#000000\"/>\n<text fill=\"#000000\" font-family=\"Times,serif\" font-size=\"14.00\" text-anchor=\"middle\" x=\"184.5\" y=\"-14.8\">dense_3: Dense</text>\n</g>\n<!-- 139941969837528 -->\n<g class=\"node\" id=\"node3\">\n<title>139941969837528</title>\n<polygon fill=\"none\" points=\"256.5,-.5 256.5,-36.5 390.5,-36.5 390.5,-.5 256.5,-.5\" stroke=\"#000000\"/>\n<text fill=\"#000000\" font-family=\"Times,serif\" font-size=\"14.00\" text-anchor=\"middle\" x=\"323.5\" y=\"-14.8\">dropout_2: Dropout</text>\n</g>\n<!-- 139941969837472 -->\n<g class=\"node\" id=\"node4\">\n<title>139941969837472</title>\n<polygon fill=\"none\" points=\"409,-.5 409,-36.5 516,-36.5 516,-.5 409,-.5\" stroke=\"#000000\"/>\n<text fill=\"#000000\" font-family=\"Times,serif\" font-size=\"14.00\" text-anchor=\"middle\" x=\"462.5\" y=\"-14.8\">dense_4: Dense</text>\n</g>\n<!-- 139941969837024 -->\n<g class=\"node\" id=\"node5\">\n<title>139941969837024</title>\n<polygon fill=\"none\" points=\"534.5,-.5 534.5,-36.5 668.5,-36.5 668.5,-.5 534.5,-.5\" stroke=\"#000000\"/>\n<text fill=\"#000000\" font-family=\"Times,serif\" font-size=\"14.00\" text-anchor=\"middle\" x=\"601.5\" y=\"-14.8\">dropout_3: Dropout</text>\n</g>\n<!-- 139941969836968 -->\n<g class=\"node\" id=\"node6\">\n<title>139941969836968</title>\n<polygon fill=\"none\" points=\"687,-.5 687,-36.5 794,-36.5 794,-.5 687,-.5\" stroke=\"#000000\"/>\n<text fill=\"#000000\" font-family=\"Times,serif\" font-size=\"14.00\" text-anchor=\"middle\" x=\"740.5\" y=\"-14.8\">dense_5: Dense</text>\n</g>\n</g>\n</svg>"
          },
          "metadata": {
            "tags": []
          },
          "execution_count": 14
        }
      ]
    }
  ]
}